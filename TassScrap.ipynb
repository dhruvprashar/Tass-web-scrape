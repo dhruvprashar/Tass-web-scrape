{
 "cells": [
  {
   "cell_type": "code",
   "execution_count": 24,
   "metadata": {},
   "outputs": [],
   "source": [
    "import urllib.request,sys,time\n",
    "from selenium import webdriver\n",
    "from selenium.webdriver.chrome.service import Service\n",
    "from selenium.common.exceptions import NoSuchElementException\n",
    "from bs4 import BeautifulSoup\n",
    "import pandas as pd\n",
    "from selenium.webdriver.support.ui import WebDriverWait       \n",
    "from selenium.webdriver.common.by import By       \n",
    "from selenium.webdriver.support import expected_conditions as EC\n"
   ]
  },
  {
   "cell_type": "code",
   "execution_count": 29,
   "metadata": {},
   "outputs": [
    {
     "name": "stderr",
     "output_type": "stream",
     "text": [
      "C:\\Users\\prash\\Anaconda3\\lib\\site-packages\\ipykernel_launcher.py:1: DeprecationWarning: executable_path has been deprecated, please pass in a Service object\n",
      "  \"\"\"Entry point for launching an IPython kernel.\n"
     ]
    },
    {
     "data": {
      "text/plain": [
       "<selenium.webdriver.chrome.webdriver.WebDriver (session=\"b88b94e6a609587af8c3278fec466db0\")>"
      ]
     },
     "execution_count": 29,
     "metadata": {},
     "output_type": "execute_result"
    }
   ],
   "source": [
    "driver = webdriver.Chrome(r\"C:\\Users\\prash\\Downloads\\chromedriver_w\\chromedriver\")\n",
    "driver"
   ]
  },
  {
   "cell_type": "code",
   "execution_count": 30,
   "metadata": {},
   "outputs": [],
   "source": [
    "driver.get(\"https://tass.com/russia\")\n",
    "driver.maximize_window()"
   ]
  },
  {
   "cell_type": "code",
   "execution_count": 32,
   "metadata": {},
   "outputs": [],
   "source": [
    "\n",
    "i=0\n",
    "while True and i<20:\n",
    "#     time.sleep(2)\n",
    "    try:\n",
    "        \n",
    "#         link=driver.find_element(\"xpath\",'//*[@id=\"listingBtn\"]')\n",
    "        driver.execute_script(\"window.scrollTo(0,document.body.scrollHeight-10);\")\n",
    "        time.sleep(7)\n",
    "        driver.execute_script(\"window.scrollTo(0,document.body.scrollHeight-10);\")\n",
    "        time.sleep(7)\n",
    "       # WebDriverWait(driver, 25).until(EC.element_to_be_clickable((By.XPATH, '//*[@id=\"listingBtn\"]'))).click()\n",
    "        \n",
    "    #         link.click()\n",
    "        i+=1\n",
    "    except NoSuchElementException:\n",
    "        break\n"
   ]
  },
  {
   "cell_type": "code",
   "execution_count": 33,
   "metadata": {},
   "outputs": [
    {
     "data": {
      "text/html": [
       "<div>\n",
       "<style scoped>\n",
       "    .dataframe tbody tr th:only-of-type {\n",
       "        vertical-align: middle;\n",
       "    }\n",
       "\n",
       "    .dataframe tbody tr th {\n",
       "        vertical-align: top;\n",
       "    }\n",
       "\n",
       "    .dataframe thead th {\n",
       "        text-align: right;\n",
       "    }\n",
       "</style>\n",
       "<table border=\"1\" class=\"dataframe\">\n",
       "  <thead>\n",
       "    <tr style=\"text-align: right;\">\n",
       "      <th></th>\n",
       "      <th>Statement</th>\n",
       "      <th>Link</th>\n",
       "      <th>Date</th>\n",
       "    </tr>\n",
       "  </thead>\n",
       "  <tbody>\n",
       "    <tr>\n",
       "      <td>0</td>\n",
       "      <td>Biden extends sanctions over alleged cyberatta...</td>\n",
       "      <td>https://www.tass.com/world/1596373</td>\n",
       "      <td>Today, 07:36</td>\n",
       "    </tr>\n",
       "    <tr>\n",
       "      <td>1</td>\n",
       "      <td>Fearing possible seizure, parishioners stay ov...</td>\n",
       "      <td>https://www.tass.com/world/1596369</td>\n",
       "      <td>Today, 06:37</td>\n",
       "    </tr>\n",
       "    <tr>\n",
       "      <td>2</td>\n",
       "      <td>Ukrainian military fires 69 munitions at DPR i...</td>\n",
       "      <td>https://www.tass.com/defense/1596363</td>\n",
       "      <td>Today, 04:41</td>\n",
       "    </tr>\n",
       "    <tr>\n",
       "      <td>3</td>\n",
       "      <td>Soyuz-2.1v carrier rocket delivers military sa...</td>\n",
       "      <td>https://www.tass.com/russia/1596359</td>\n",
       "      <td>Today, 03:35</td>\n",
       "    </tr>\n",
       "    <tr>\n",
       "      <td>4</td>\n",
       "      <td>Putin may attend fuel loading ceremony at Akku...</td>\n",
       "      <td>https://www.tass.com/russia/1596353</td>\n",
       "      <td>Today, 03:07</td>\n",
       "    </tr>\n",
       "  </tbody>\n",
       "</table>\n",
       "</div>"
      ],
      "text/plain": [
       "                                           Statement  \\\n",
       "0  Biden extends sanctions over alleged cyberatta...   \n",
       "1  Fearing possible seizure, parishioners stay ov...   \n",
       "2  Ukrainian military fires 69 munitions at DPR i...   \n",
       "3  Soyuz-2.1v carrier rocket delivers military sa...   \n",
       "4  Putin may attend fuel loading ceremony at Akku...   \n",
       "\n",
       "                                   Link          Date  \n",
       "0    https://www.tass.com/world/1596373  Today, 07:36  \n",
       "1    https://www.tass.com/world/1596369  Today, 06:37  \n",
       "2  https://www.tass.com/defense/1596363  Today, 04:41  \n",
       "3   https://www.tass.com/russia/1596359  Today, 03:35  \n",
       "4   https://www.tass.com/russia/1596353  Today, 03:07  "
      ]
     },
     "execution_count": 33,
     "metadata": {},
     "output_type": "execute_result"
    }
   ],
   "source": [
    "filename=\"TassNews.csv\"\n",
    "f=open(filename,\"w\", encoding = 'utf-8')\n",
    "headers=\"Statement, Link, Date \\n\"\n",
    "f.write(headers)\n",
    "frame=[]\n",
    "\n",
    "data = BeautifulSoup(driver.page_source, 'html.parser')\n",
    "links=data.find_all('div',attrs={'class':'news-list__item ng-scope'})\n",
    "# links\n",
    "for j in links:\n",
    "#     print(j)\n",
    "#     print(\"hello\")\n",
    "    Statement = j.find(\"div\",attrs={'class':'news-preview__header'})#.find('a').text.strip()  Link+\n",
    "    if Statement==None:\n",
    "        continue\n",
    "    Headline = Statement.find('span').text.strip()\n",
    "    # Headline is present inside this last div of the div j \n",
    "    Link = \"https://www.tass.com\"\n",
    "    Link += j.find('a')['href'].strip()\n",
    "#     print(Link) Link is present throughout the block inside a tag's href att.\n",
    "#     print(Headline)\n",
    "    Date = j.find('dateformat')\n",
    "    #Date and time of news are present in Dateformat tag inside different spans\n",
    "   # print(\"hey\")\n",
    "    if Date==None:\n",
    "       # print(\"lo\")\n",
    "        continue\n",
    "#     print(Date)\n",
    "    DateD=Date.find_all('span',attrs={'class':'ng-binding ng-scope'})\n",
    "    DateDate=DateD[0].text.strip()\n",
    "    DateT=\"\";\n",
    "#     print(DateD)\n",
    "    if len(DateD)>1:\n",
    "        DateDate=DateD[0].text.strip()\n",
    "        DateT= DateD[1].text.strip()\n",
    "    DateTime = DateDate +\" \" + DateT\n",
    "#     print(DateTime)\n",
    "    frame.append((Headline,Link,DateTime))\n",
    "#     f.write(Statement.replace(\",\",\"^\")+\",\"+Link+\",\"+Date.replace(\",\",\"^\")+\",\"+\"\\n\")\n",
    "    \n",
    "    \n",
    "    \n",
    "    \n",
    "f.close()\n",
    "\n",
    "data=pd.DataFrame(frame, columns=['Statement','Link','Date'])\n",
    "data.head()\n",
    "\n",
    "#     DateTime = Date.find('span').text.strip()\n",
    "#     print(DateTime)\n"
   ]
  },
  {
   "cell_type": "code",
   "execution_count": 35,
   "metadata": {},
   "outputs": [],
   "source": [
    "driver.close()\n",
    "driver.quit()"
   ]
  },
  {
   "cell_type": "code",
   "execution_count": 34,
   "metadata": {},
   "outputs": [
    {
     "data": {
      "text/html": [
       "<div>\n",
       "<style scoped>\n",
       "    .dataframe tbody tr th:only-of-type {\n",
       "        vertical-align: middle;\n",
       "    }\n",
       "\n",
       "    .dataframe tbody tr th {\n",
       "        vertical-align: top;\n",
       "    }\n",
       "\n",
       "    .dataframe thead th {\n",
       "        text-align: right;\n",
       "    }\n",
       "</style>\n",
       "<table border=\"1\" class=\"dataframe\">\n",
       "  <thead>\n",
       "    <tr style=\"text-align: right;\">\n",
       "      <th></th>\n",
       "      <th>Statement</th>\n",
       "      <th>Link</th>\n",
       "      <th>Date</th>\n",
       "    </tr>\n",
       "  </thead>\n",
       "  <tbody>\n",
       "    <tr>\n",
       "      <td>0</td>\n",
       "      <td>Biden extends sanctions over alleged cyberatta...</td>\n",
       "      <td>https://www.tass.com/world/1596373</td>\n",
       "      <td>Today, 07:36</td>\n",
       "    </tr>\n",
       "    <tr>\n",
       "      <td>1</td>\n",
       "      <td>Fearing possible seizure, parishioners stay ov...</td>\n",
       "      <td>https://www.tass.com/world/1596369</td>\n",
       "      <td>Today, 06:37</td>\n",
       "    </tr>\n",
       "    <tr>\n",
       "      <td>2</td>\n",
       "      <td>Ukrainian military fires 69 munitions at DPR i...</td>\n",
       "      <td>https://www.tass.com/defense/1596363</td>\n",
       "      <td>Today, 04:41</td>\n",
       "    </tr>\n",
       "    <tr>\n",
       "      <td>3</td>\n",
       "      <td>Soyuz-2.1v carrier rocket delivers military sa...</td>\n",
       "      <td>https://www.tass.com/russia/1596359</td>\n",
       "      <td>Today, 03:35</td>\n",
       "    </tr>\n",
       "    <tr>\n",
       "      <td>4</td>\n",
       "      <td>Putin may attend fuel loading ceremony at Akku...</td>\n",
       "      <td>https://www.tass.com/russia/1596353</td>\n",
       "      <td>Today, 03:07</td>\n",
       "    </tr>\n",
       "  </tbody>\n",
       "</table>\n",
       "</div>"
      ],
      "text/plain": [
       "                                           Statement  \\\n",
       "0  Biden extends sanctions over alleged cyberatta...   \n",
       "1  Fearing possible seizure, parishioners stay ov...   \n",
       "2  Ukrainian military fires 69 munitions at DPR i...   \n",
       "3  Soyuz-2.1v carrier rocket delivers military sa...   \n",
       "4  Putin may attend fuel loading ceremony at Akku...   \n",
       "\n",
       "                                   Link          Date  \n",
       "0    https://www.tass.com/world/1596373  Today, 07:36  \n",
       "1    https://www.tass.com/world/1596369  Today, 06:37  \n",
       "2  https://www.tass.com/defense/1596363  Today, 04:41  \n",
       "3   https://www.tass.com/russia/1596359  Today, 03:35  \n",
       "4   https://www.tass.com/russia/1596353  Today, 03:07  "
      ]
     },
     "execution_count": 34,
     "metadata": {},
     "output_type": "execute_result"
    }
   ],
   "source": [
    "data.to_csv(\"TassNews.csv\", index= False, encoding= 'utf-8')\n",
    "df=pd.read_csv(\"TassNews.csv\", encoding= 'utf-8')\n",
    "df.head()"
   ]
  },
  {
   "cell_type": "code",
   "execution_count": null,
   "metadata": {},
   "outputs": [],
   "source": []
  }
 ],
 "metadata": {
  "kernelspec": {
   "display_name": "Python 3",
   "language": "python",
   "name": "python3"
  },
  "language_info": {
   "codemirror_mode": {
    "name": "ipython",
    "version": 3
   },
   "file_extension": ".py",
   "mimetype": "text/x-python",
   "name": "python",
   "nbconvert_exporter": "python",
   "pygments_lexer": "ipython3",
   "version": "3.7.4"
  }
 },
 "nbformat": 4,
 "nbformat_minor": 2
}
